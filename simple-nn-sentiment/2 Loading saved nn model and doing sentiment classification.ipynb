{
 "cells": [
  {
   "cell_type": "code",
   "execution_count": 3,
   "metadata": {},
   "outputs": [],
   "source": [
    "import numpy as np\n",
    "import keras \n",
    "import keras.preprocessing.text as kpt\n",
    "from keras.preprocessing.text import Tokenizer\n",
    "from keras.models import model_from_json\n",
    "import json"
   ]
  },
  {
   "cell_type": "code",
   "execution_count": 4,
   "metadata": {},
   "outputs": [],
   "source": [
    "tokenizer = Tokenizer(num_words=1000)\n",
    "\n",
    "with open('datasets/dictionary.json','r') as dictionary_file:\n",
    "    dictionary = json.load(dictionary_file)"
   ]
  },
  {
   "cell_type": "code",
   "execution_count": 5,
   "metadata": {},
   "outputs": [],
   "source": [
    "json_model = open('datasets/model.json')\n",
    "read_json_model = json_model.read()\n",
    "json_model.close()"
   ]
  },
  {
   "cell_type": "code",
   "execution_count": 6,
   "metadata": {},
   "outputs": [],
   "source": [
    "model = model_from_json(read_json_model)\n",
    "model.load_weights('datasets/model.h5')"
   ]
  },
  {
   "cell_type": "code",
   "execution_count": 8,
   "metadata": {},
   "outputs": [],
   "source": [
    "def convert_text_to_indices(text):\n",
    "    words = kpt.text_to_word_sequence(text)\n",
    "    allWordsIndices = []\n",
    "    \n",
    "    for word in words:\n",
    "        if word in dictionary:\n",
    "            allWordsIndices.append(dictionary[word])\n",
    "        else:\n",
    "            print(f'skipping word {word}')\n",
    "    return allWordsIndices"
   ]
  },
  {
   "cell_type": "code",
   "execution_count": 20,
   "metadata": {},
   "outputs": [
    {
     "name": "stdout",
     "output_type": "stream",
     "text": [
      "enter sentence to evaluate or enter to end:\n",
      "i am so good\n",
      "Predicted Sentiment: positive\n",
      "Confidence: 86.9333028793335\n",
      "enter sentence to evaluate or enter to end:\n",
      "\n"
     ]
    }
   ],
   "source": [
    "labels = ['negative','positive']\n",
    "while 1:\n",
    "    eval_state = input('enter sentence to evaluate or enter to end:\\n')\n",
    "    if len(eval_state) == 0:\n",
    "        break\n",
    "    else:\n",
    "        indices = convert_text_to_indices(eval_state)\n",
    "        input_ = tokenizer.sequences_to_matrix([indices],mode='binary')\n",
    "        output = model.predict(input_)\n",
    "        print(f'Predicted Sentiment: {labels[np.argmax(output)]}')\n",
    "        print(f'Confidence: {np.max(pred)*100}')\n"
   ]
  },
  {
   "cell_type": "code",
   "execution_count": null,
   "metadata": {},
   "outputs": [],
   "source": []
  }
 ],
 "metadata": {
  "kernelspec": {
   "display_name": "Python [default]",
   "language": "python",
   "name": "python3"
  },
  "language_info": {
   "codemirror_mode": {
    "name": "ipython",
    "version": 3
   },
   "file_extension": ".py",
   "mimetype": "text/x-python",
   "name": "python",
   "nbconvert_exporter": "python",
   "pygments_lexer": "ipython3",
   "version": "3.6.4"
  },
  "varInspector": {
   "cols": {
    "lenName": 16,
    "lenType": 16,
    "lenVar": 40
   },
   "kernels_config": {
    "python": {
     "delete_cmd_postfix": "",
     "delete_cmd_prefix": "del ",
     "library": "var_list.py",
     "varRefreshCmd": "print(var_dic_list())"
    },
    "r": {
     "delete_cmd_postfix": ") ",
     "delete_cmd_prefix": "rm(",
     "library": "var_list.r",
     "varRefreshCmd": "cat(var_dic_list()) "
    }
   },
   "types_to_exclude": [
    "module",
    "function",
    "builtin_function_or_method",
    "instance",
    "_Feature"
   ],
   "window_display": false
  }
 },
 "nbformat": 4,
 "nbformat_minor": 2
}
